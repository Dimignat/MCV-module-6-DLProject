{
 "cells": [
  {
   "cell_type": "code",
   "execution_count": 1,
   "metadata": {},
   "outputs": [],
   "source": [
    "%load_ext autoreload\n",
    "%autoreload 2"
   ]
  },
  {
   "cell_type": "code",
   "execution_count": 2,
   "metadata": {},
   "outputs": [],
   "source": [
    "import imgaug as ia\n",
    "import numpy as np\n",
    "import imgaug.augmenters as iaa\n",
    "from imgaug.augmentables.bbs import BoundingBox, BoundingBoxesOnImage\n",
    "from collections import defaultdict\n",
    "from PIL import Image\n",
    "from project.utils import TRAIN_IMAGES_PATHS, TRAIN_LABELS_PATHS, SEED, parse_label"
   ]
  },
  {
   "cell_type": "code",
   "execution_count": 9,
   "metadata": {},
   "outputs": [
    {
     "data": {
      "text/plain": [
       "(5921, 5921)"
      ]
     },
     "execution_count": 9,
     "metadata": {},
     "output_type": "execute_result"
    }
   ],
   "source": [
    "ia.seed(SEED)\n",
    "len(TRAIN_IMAGES_PATHS), len(TRAIN_LABELS_PATHS)"
   ]
  },
  {
   "cell_type": "code",
   "execution_count": 4,
   "metadata": {},
   "outputs": [],
   "source": [
    "ia_ds = defaultdict(list)\n",
    "for label_path, img_path in zip(TRAIN_LABELS_PATHS, TRAIN_IMAGES_PATHS):\n",
    "    img = Image.open(img_path)\n",
    "    label = parse_label(label_path)\n",
    "    \n",
    "    klass, *bbox = label\n",
    "    img_w, img_h = img.size\n",
    "    x, y = bbox[0] * img_w, bbox[1] * img_h\n",
    "    w, h = bbox[2] * img_w, bbox[3] * img_h\n",
    "    x1, x2 = x - (w // 2), x + (w // 2)\n",
    "    y1, y2 = y + (h // 2), y - (h // 2)\n",
    "    bb = BoundingBox(x1=x1, x2=x2, y1=y1, y2=y2, label=klass)\n",
    "    ia_ds[klass].append((img_path, img, label_path, BoundingBoxesOnImage([bb], shape=(img_h, img_w))))"
   ]
  },
  {
   "cell_type": "code",
   "execution_count": 5,
   "metadata": {},
   "outputs": [],
   "source": [
    "seq = iaa.Sequential([\n",
    "    iaa.Fliplr(0.5),\n",
    "    iaa.Crop(percent=(0, 0.1)),\n",
    "    iaa.Sometimes(\n",
    "        0.5,\n",
    "        iaa.GaussianBlur(sigma=(0, 0.5))\n",
    "    ),\n",
    "    iaa.LinearContrast((0.75, 1.5)),\n",
    "    iaa.AdditiveGaussianNoise(loc=0, scale=(0.0, 0.05*255), per_channel=0.5),\n",
    "    iaa.Multiply((0.8, 1.2), per_channel=0.2),\n",
    "    iaa.Affine(\n",
    "        scale={\"x\": (0.8, 1.2), \"y\": (0.8, 1.2)},\n",
    "        translate_percent={\"x\": (-0.2, 0.2), \"y\": (-0.2, 0.2)},\n",
    "        rotate=(-180, 180),\n",
    "        shear=(-8, 8)\n",
    "    )\n",
    "], random_order=True)"
   ]
  },
  {
   "cell_type": "code",
   "execution_count": 13,
   "metadata": {},
   "outputs": [],
   "source": [
    "def augment_image(image: np.array, bbox: BoundingBox, n: int) -> list[tuple[np.array, BoundingBox]]:\n",
    "    output = []\n",
    "    for _ in range(n):\n",
    "        while True:\n",
    "            image_aug, bbox_aug = seq(image=image, bounding_boxes=bbox)\n",
    "            if len(bbox_aug.remove_out_of_image()) == 0:\n",
    "                continue\n",
    "            output.append((bbox_aug.clip_out_of_image()[0], image_aug))\n",
    "            break\n",
    "    return output"
   ]
  },
  {
   "cell_type": "code",
   "execution_count": 14,
   "metadata": {},
   "outputs": [
    {
     "name": "stdout",
     "output_type": "stream",
     "text": [
      "{1: 2620, 3: 2627, 5: 237, 0: 28, 4: 362, 2: 47}\n"
     ]
    }
   ],
   "source": [
    "print({k: len(v) for k, v in ia_ds.items()})\n",
    "classes_to_augment = [(0, 20), (2, 20), (4, 4), (5, 5)]"
   ]
  },
  {
   "cell_type": "code",
   "execution_count": 15,
   "metadata": {},
   "outputs": [],
   "source": [
    "for klass, n in classes_to_augment:\n",
    "    for img_path, img, label_path, label in ia_ds[klass]:\n",
    "        augmented = augment_image(np.array(img), label, n)\n",
    "        for idx, (aug_label, aug_img) in enumerate(augmented):\n",
    "            aug_img_path = img_path.with_name(img_path.stem + f'_{idx}' + img_path.suffix)\n",
    "            aug_label_path = label_path.with_name(label_path.stem + f'_{idx}' + label_path.suffix)\n",
    "\n",
    "            aug_img = Image.fromarray(aug_img)\n",
    "            aug_img.save(aug_img_path)\n",
    "            \n",
    "            with open(aug_label_path, \"w\") as f:\n",
    "                xc, yc = (aug_label.x1 + aug_label.x2) // 2, (aug_label.y1 + aug_label.y2) // 2\n",
    "                xc, yc = xc / img_w, yc / img_h\n",
    "                w, h = (aug_label.x2 - aug_label.x1) / img_w, (aug_label.y2 - aug_label.y1) / img_h\n",
    "                string = \" \".join(map(str, [aug_label.label, xc, yc, w, h]))\n",
    "                f.write(string)"
   ]
  }
 ],
 "metadata": {
  "kernelspec": {
   "display_name": "venv",
   "language": "python",
   "name": "python3"
  },
  "language_info": {
   "codemirror_mode": {
    "name": "ipython",
    "version": 3
   },
   "file_extension": ".py",
   "mimetype": "text/x-python",
   "name": "python",
   "nbconvert_exporter": "python",
   "pygments_lexer": "ipython3",
   "version": "3.11.6"
  }
 },
 "nbformat": 4,
 "nbformat_minor": 2
}
